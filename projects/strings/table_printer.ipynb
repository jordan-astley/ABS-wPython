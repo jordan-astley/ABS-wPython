{
 "cells": [
  {
   "cell_type": "code",
   "execution_count": 8,
   "metadata": {},
   "outputs": [],
   "source": [
    "tableData = [['apples', 'oranges', 'cherries', 'banana'],\n",
    "             ['Alice', 'Bob', 'Carol', 'David'],\n",
    "             ['dogs', 'cats', 'moose', 'goose']]"
   ]
  },
  {
   "cell_type": "code",
   "execution_count": 9,
   "metadata": {},
   "outputs": [
    {
     "data": {
      "text/plain": [
       "[8, 5, 5]"
      ]
     },
     "execution_count": 9,
     "metadata": {},
     "output_type": "execute_result"
    }
   ],
   "source": [
    "def find_length_of_longest_string(lst: list):\n",
    "    # x = 0\n",
    "    # for string in lst:\n",
    "    #     if len(string) > x:\n",
    "    #         x = len(string)\n",
    "    x = list(map(lambda i: len(i), lst))\n",
    "    return max(x)\n",
    "\n",
    "colWidths = [0]*len(tableData)\n",
    "\n",
    "for index, col in enumerate(tableData):\n",
    "    colWidths[index] = find_length_of_longest_string(col)\n",
    "\n",
    "colWidths"
   ]
  },
  {
   "cell_type": "code",
   "execution_count": 17,
   "metadata": {},
   "outputs": [
    {
     "name": "stdout",
     "output_type": "stream",
     "text": [
      "  apples Alice  dogs \n",
      " oranges   Bob  cats \n",
      "cherries Carol moose \n",
      "  banana David goose \n"
     ]
    }
   ],
   "source": [
    "def printTable(tableData, colWidths):\n",
    "    tableHeight = len(tableData[0]) # can assume all same number of strings in each inner list\n",
    "    for row in range(tableHeight): # iterate for each row of the table (length of cols)\n",
    "        for index, col in enumerate(tableData):\n",
    "            print(col[row].rjust(colWidths[index]), end=' ') # print each row\n",
    "        print() # new line\n",
    "\n",
    "printTable(tableData, colWidths)   "
   ]
  }
 ],
 "metadata": {
  "kernelspec": {
   "display_name": "Python 3.9.13 64-bit (windows store)",
   "language": "python",
   "name": "python3"
  },
  "language_info": {
   "codemirror_mode": {
    "name": "ipython",
    "version": 3
   },
   "file_extension": ".py",
   "mimetype": "text/x-python",
   "name": "python",
   "nbconvert_exporter": "python",
   "pygments_lexer": "ipython3",
   "version": "3.9.13"
  },
  "orig_nbformat": 4,
  "vscode": {
   "interpreter": {
    "hash": "33035f574c9eef7ff8f01ee9196493be394cff9983d3f5cb1ef2b1416a6aa12a"
   }
  }
 },
 "nbformat": 4,
 "nbformat_minor": 2
}
